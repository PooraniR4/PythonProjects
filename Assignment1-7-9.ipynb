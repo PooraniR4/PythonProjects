{
 "cells": [
  {
   "cell_type": "markdown",
   "metadata": {},
   "source": [
    "#Turn this every item of a list into its square\n",
    "\n",
    "input = [1, 2, 3, 4, 5, 6, 7]\n",
    "output = [1, 4, 9, 16, 25, 36, 49]"
   ]
  },
  {
   "cell_type": "code",
   "execution_count": 1,
   "metadata": {},
   "outputs": [
    {
     "name": "stdout",
     "output_type": "stream",
     "text": [
      "1\n",
      "4\n",
      "9\n",
      "16\n",
      "25\n",
      "36\n",
      "49\n"
     ]
    }
   ],
   "source": [
    "li=[1, 2, 3, 4, 5, 6, 7]\n",
    "for i in li:\n",
    "    li2=i ** 2\n",
    "    print(li2)"
   ]
  },
  {
   "cell_type": "markdown",
   "metadata": {},
   "source": [
    "#Concatenate two lists in the following order\n",
    "input: list1 = [\"Hello \", \"Hi\"]\n",
    "           list2 = [\"Divya\", \"Sam\"]\n",
    "\n",
    "output: ['Hello Divya', 'Hello Sam', 'Hi Divya', 'Hi Sam']"
   ]
  },
  {
   "cell_type": "code",
   "execution_count": 2,
   "metadata": {},
   "outputs": [
    {
     "name": "stdout",
     "output_type": "stream",
     "text": [
      "['Hello Divya' , 'Hello Sam' , 'Hi Divya' , 'Hi Sam']\n"
     ]
    }
   ],
   "source": [
    "list1=[\"Hello\",\"Hi\"]\n",
    "list2=[\"Divya\",\"Sam\"]\n",
    "print(\"['\" +list1[0]+ \" \" +list2[0]+\"' , '\"+list1[0]+ \" \" +list2[1]+\"' , '\"+list1[1]+ \" \" +list2[0]+\"' , '\"+list1[1]+ \" \" +list2[1]+\"']\")"
   ]
  },
  {
   "cell_type": "code",
   "execution_count": null,
   "metadata": {},
   "outputs": [],
   "source": []
  }
 ],
 "metadata": {
  "kernelspec": {
   "display_name": "Python 3",
   "language": "python",
   "name": "python3"
  },
  "language_info": {
   "codemirror_mode": {
    "name": "ipython",
    "version": 3
   },
   "file_extension": ".py",
   "mimetype": "text/x-python",
   "name": "python",
   "nbconvert_exporter": "python",
   "pygments_lexer": "ipython3",
   "version": "3.8.3"
  }
 },
 "nbformat": 4,
 "nbformat_minor": 4
}
