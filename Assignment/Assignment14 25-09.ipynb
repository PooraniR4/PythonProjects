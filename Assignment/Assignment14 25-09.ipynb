{
 "cells": [
  {
   "cell_type": "code",
   "execution_count": 3,
   "metadata": {},
   "outputs": [
    {
     "name": "stdout",
     "output_type": "stream",
     "text": [
      "The inherited method classes are \n",
      "I am the base_A class method\n",
      "I am the base_B class method\n"
     ]
    }
   ],
   "source": [
    "class Base_A:\n",
    "    def base_A():\n",
    "        print(\"I am the base_A class method\")\n",
    "class Base_B:\n",
    "    def base_B():\n",
    "        print(\"I am the base_B class method\")\n",
    "class Base_C(Base_A,Base_B):\n",
    "    print(\"The inherited method classes are \")\n",
    "obj1=Base_C()\n",
    "Base_C.base_A()\n",
    "Base_C.base_B()"
   ]
  },
  {
   "cell_type": "code",
   "execution_count": null,
   "metadata": {},
   "outputs": [],
   "source": []
  }
 ],
 "metadata": {
  "kernelspec": {
   "display_name": "Python 3",
   "language": "python",
   "name": "python3"
  },
  "language_info": {
   "codemirror_mode": {
    "name": "ipython",
    "version": 3
   },
   "file_extension": ".py",
   "mimetype": "text/x-python",
   "name": "python",
   "nbconvert_exporter": "python",
   "pygments_lexer": "ipython3",
   "version": "3.8.3"
  }
 },
 "nbformat": 4,
 "nbformat_minor": 4
}
