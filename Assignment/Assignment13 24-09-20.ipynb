{
 "cells": [
  {
   "cell_type": "markdown",
   "metadata": {},
   "source": [
    "### Create 2 Classes Dog and Cat which has variables & methods of its own "
   ]
  },
  {
   "cell_type": "code",
   "execution_count": 2,
   "metadata": {},
   "outputs": [],
   "source": [
    "class Dog:\n",
    "    def __init__(self):\n",
    "        self.name=\"Puppy\"\n",
    "        self.age=12\n",
    "    def color(self):\n",
    "        print(r\"My name is \"+self.name+ \"\\n My color is 'white with black dots'\"  )\n",
    "\n",
    "    def sound(self):\n",
    "        print(\"Age is \"+str(self.age)+ \"\\n I do 'Bow Bow's'\")\n",
    "\n",
    "class Cat:\n",
    "    def __init__(self):\n",
    "        self.name=\"Kitty\"\n",
    "        self.age=6\n",
    "    def color(self):\n",
    "        print(r\"My name is \"+self.name+ \" and \\n My color is 'Gray with white stripes'\"  )\n",
    "\n",
    "    def sound(self):\n",
    "        print(r\"Age is \"+str(self.age)+ \"\\n I do 'Meow Meow's'\")\n"
   ]
  },
  {
   "cell_type": "code",
   "execution_count": 3,
   "metadata": {},
   "outputs": [
    {
     "name": "stdout",
     "output_type": "stream",
     "text": [
      "My name is Puppy\n",
      " My color is 'white with black dots'\n",
      "Age is 12\n",
      " I do 'Bow Bow's'\n",
      "My name is Kitty and \n",
      " My color is 'Gray with white stripes'\n",
      "Age is 6\n",
      " I do 'Meow Meow's'\n"
     ]
    }
   ],
   "source": [
    "d=Dog()\n",
    "d.color()\n",
    "d.sound()\n",
    "c=Cat()\n",
    "c.color()\n",
    "c.sound()"
   ]
  },
  {
   "cell_type": "code",
   "execution_count": null,
   "metadata": {},
   "outputs": [],
   "source": []
  }
 ],
 "metadata": {
  "kernelspec": {
   "display_name": "Python 3",
   "language": "python",
   "name": "python3"
  },
  "language_info": {
   "codemirror_mode": {
    "name": "ipython",
    "version": 3
   },
   "file_extension": ".py",
   "mimetype": "text/x-python",
   "name": "python",
   "nbconvert_exporter": "python",
   "pygments_lexer": "ipython3",
   "version": "3.8.3"
  }
 },
 "nbformat": 4,
 "nbformat_minor": 4
}
