{
 "cells": [
  {
   "cell_type": "code",
   "execution_count": 3,
   "metadata": {},
   "outputs": [
    {
     "name": "stdout",
     "output_type": "stream",
     "text": [
      "['$360Section', '$AV_ASW', '$Recycle.Bin', '$SysReset', '$WINRE_BACKUP_PARTITION.MARKER', '360SANDBOX', 'autoexec.bat', 'bootmgr', 'BOOTNXT', 'config.sys', 'Documents and Settings', 'DRIVERS', 'found.000', 'found.001', 'hiberfil.sys', 'Intel', 'Macro', 'Macro.zip', 'MSOCache', 'New folder', 'New folder (2)', 'NewXampp', 'pagefile.sys', 'PerfLogs', 'pip', 'Pradeep Album', 'Pradeep Wedding', 'Program Files', 'Program Files (x86)', 'ProgramData', 'Python Testleaf', 'Recovery', 'swapfile.sys', 'SWSetup', 'System Volume Information', 'TempEI4', 'TURBOC3', 'Users', 'VIDEO_TS', 'Windows', 'Windows Activation Technologies', 'xampp']\n"
     ]
    }
   ],
   "source": [
    "import os\n",
    "lod=os.listdir('C:/')\n",
    "print(lod)"
   ]
  },
  {
   "cell_type": "code",
   "execution_count": null,
   "metadata": {},
   "outputs": [],
   "source": []
  }
 ],
 "metadata": {
  "kernelspec": {
   "display_name": "Python 3",
   "language": "python",
   "name": "python3"
  },
  "language_info": {
   "codemirror_mode": {
    "name": "ipython",
    "version": 3
   },
   "file_extension": ".py",
   "mimetype": "text/x-python",
   "name": "python",
   "nbconvert_exporter": "python",
   "pygments_lexer": "ipython3",
   "version": "3.8.3"
  }
 },
 "nbformat": 4,
 "nbformat_minor": 4
}
