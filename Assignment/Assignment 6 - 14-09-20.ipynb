{
 "cells": [
  {
   "cell_type": "markdown",
   "metadata": {},
   "source": [
    "### Factorial of 8"
   ]
  },
  {
   "cell_type": "code",
   "execution_count": 7,
   "metadata": {},
   "outputs": [
    {
     "name": "stdout",
     "output_type": "stream",
     "text": [
      "40320\n"
     ]
    }
   ],
   "source": [
    "def fact1(n):\n",
    "    f=1\n",
    "    if(n<0):\n",
    "        return 0\n",
    "    else:\n",
    "        for i in range(1,n+1):\n",
    "            f=f*i\n",
    "    print(f)\n",
    "fact1(8)"
   ]
  },
  {
   "cell_type": "markdown",
   "metadata": {},
   "source": [
    "### Print numbers divsible by 5 and 7 from 1 to n by getting input from console"
   ]
  },
  {
   "cell_type": "code",
   "execution_count": 8,
   "metadata": {},
   "outputs": [
    {
     "name": "stdout",
     "output_type": "stream",
     "text": [
      "Enter a number:100\n",
      "0 35 70 "
     ]
    }
   ],
   "source": [
    "def div_five_seven():\n",
    "    n1=int(input(\"Enter a number:\"))\n",
    "    for i in range(0,n1):\n",
    "        if(i%5==0 and i%7==0):\n",
    "            print(i,end=\" \")\n",
    "div_five_seven()"
   ]
  },
  {
   "cell_type": "markdown",
   "metadata": {},
   "source": [
    "### Add the even numbers from the existing set into a new set"
   ]
  },
  {
   "cell_type": "code",
   "execution_count": 6,
   "metadata": {},
   "outputs": [
    {
     "name": "stdout",
     "output_type": "stream",
     "text": [
      "{24, 52, 46}\n"
     ]
    }
   ],
   "source": [
    "set1={23,52,24,75,46,91}\n",
    "ss=set()\n",
    "for i in set1:\n",
    "    if(i % 2 == 0):\n",
    "        ss.add(i)\n",
    "print(ss)"
   ]
  },
  {
   "cell_type": "code",
   "execution_count": null,
   "metadata": {},
   "outputs": [],
   "source": []
  }
 ],
 "metadata": {
  "kernelspec": {
   "display_name": "Python 3",
   "language": "python",
   "name": "python3"
  },
  "language_info": {
   "codemirror_mode": {
    "name": "ipython",
    "version": 3
   },
   "file_extension": ".py",
   "mimetype": "text/x-python",
   "name": "python",
   "nbconvert_exporter": "python",
   "pygments_lexer": "ipython3",
   "version": "3.8.3"
  }
 },
 "nbformat": 4,
 "nbformat_minor": 4
}
