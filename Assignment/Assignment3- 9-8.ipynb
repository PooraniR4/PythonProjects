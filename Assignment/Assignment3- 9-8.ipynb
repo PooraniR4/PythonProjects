{
 "cells": [
  {
   "cell_type": "code",
   "execution_count": 12,
   "metadata": {},
   "outputs": [
    {
     "name": "stdout",
     "output_type": "stream",
     "text": [
      "Enter a WordPython\n",
      "Python\n",
      "nohtyP\n"
     ]
    }
   ],
   "source": [
    "str=input(\"Enter a Word\")\n",
    "print(str)\n",
    "rev=\"\"\n",
    "for i in range(len(str)-1,-1,-1):\n",
    "    rev=rev+str[i]\n",
    "print(rev)"
   ]
  },
  {
   "cell_type": "code",
   "execution_count": null,
   "metadata": {},
   "outputs": [],
   "source": []
  }
 ],
 "metadata": {
  "kernelspec": {
   "display_name": "Python 3",
   "language": "python",
   "name": "python3"
  },
  "language_info": {
   "codemirror_mode": {
    "name": "ipython",
    "version": 3
   },
   "file_extension": ".py",
   "mimetype": "text/x-python",
   "name": "python",
   "nbconvert_exporter": "python",
   "pygments_lexer": "ipython3",
   "version": "3.8.3"
  }
 },
 "nbformat": 4,
 "nbformat_minor": 4
}
