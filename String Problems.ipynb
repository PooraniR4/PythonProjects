{
 "cells": [
  {
   "cell_type": "markdown",
   "metadata": {},
   "source": [
    "1) Write a Python program to get a single string from two given strings, separated by a space and swap the first two characters of each string.\n",
    "\n",
    "Sample Input    : \"Test\", \"Leaf\"\n",
    "Expected output : \"Lest Teaf\""
   ]
  },
  {
   "cell_type": "code",
   "execution_count": 24,
   "metadata": {},
   "outputs": [],
   "source": [
    "s1='Test'\n",
    "s2='Leaf'\n",
    "s=s1+' '+s2\n",
    "s=s.replace(\"T\",\"L\")\n",
    "s=s.replace(' L',' T')"
   ]
  },
  {
   "cell_type": "code",
   "execution_count": 25,
   "metadata": {},
   "outputs": [
    {
     "name": "stdout",
     "output_type": "stream",
     "text": [
      "\"Lest Teaf\"\n"
     ]
    }
   ],
   "source": [
    "print('\"'+s+'\"')"
   ]
  },
  {
   "cell_type": "markdown",
   "metadata": {},
   "source": [
    "2) Write a Python program to add 'ing' at the end of a given string (length should be 3 characters). If the given string already ends with 'ing' then add 'ly' instead. If the string length of the given string is less than 3, leave it unchanged. \n",
    "\n",
    "Sample input    : 'abc'\n",
    "Expected output : 'abcing'\n",
    "\n",
    "Sample input    : 'string'\n",
    "Expected output : 'stringly'\n",
    "\n",
    "Sample input    : 'ab'\n",
    "Expected output : 'ab'"
   ]
  },
  {
   "cell_type": "code",
   "execution_count": 40,
   "metadata": {},
   "outputs": [
    {
     "name": "stdout",
     "output_type": "stream",
     "text": [
      " ab\n"
     ]
    }
   ],
   "source": [
    "s11=input(\" \")\n",
    "if len(s11)>2:\n",
    "    if s11.endswith('ing'):\n",
    "        s=s11+' ly'\n",
    "        print(s)\n",
    "    else:\n",
    "        s=s11+'ing'\n",
    "        print(s)\n",
    "else:\n",
    "    "
   ]
  },
  {
   "cell_type": "code",
   "execution_count": null,
   "metadata": {},
   "outputs": [],
   "source": []
  }
 ],
 "metadata": {
  "kernelspec": {
   "display_name": "Python 3",
   "language": "python",
   "name": "python3"
  },
  "language_info": {
   "codemirror_mode": {
    "name": "ipython",
    "version": 3
   },
   "file_extension": ".py",
   "mimetype": "text/x-python",
   "name": "python",
   "nbconvert_exporter": "python",
   "pygments_lexer": "ipython3",
   "version": "3.8.3"
  }
 },
 "nbformat": 4,
 "nbformat_minor": 2
}
